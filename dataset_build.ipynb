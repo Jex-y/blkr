{
 "cells": [
  {
   "cell_type": "code",
   "execution_count": 1,
   "metadata": {},
   "outputs": [],
   "source": [
    "import pandas as pd\n",
    "import numpy as np"
   ]
  },
  {
   "cell_type": "code",
   "execution_count": 2,
   "metadata": {},
   "outputs": [],
   "source": [
    "builders = []\n",
    "\n",
    "def builder(func):\n",
    "    builders.append(func)\n",
    "    return func"
   ]
  },
  {
   "cell_type": "code",
   "execution_count": 3,
   "metadata": {},
   "outputs": [],
   "source": [
    "@builder\n",
    "def covid1():\n",
    "    indata = pd.read_csv('./raw_data/covid/Corona_NPL_train.csv')\n",
    "    ds = pd.DataFrame()\n",
    "    ds['Tweet'] = indata['OriginalTweet']\n",
    "    ds['Topic'] = ['covid'] * len(ds)\n",
    "    return ds"
   ]
  },
  {
   "cell_type": "code",
   "execution_count": 4,
   "metadata": {},
   "outputs": [],
   "source": [
    "@builder\n",
    "def covid2():\n",
    "    indata = pd.read_csv('./raw_data/covid/covidvaccine.csv', low_memory=False)\n",
    "    ds = pd.DataFrame()\n",
    "    ds['Tweet'] = indata['text']\n",
    "    ds['Topic'] = ['covid'] * len(ds)\n",
    "    return ds"
   ]
  },
  {
   "cell_type": "code",
   "execution_count": 5,
   "metadata": {},
   "outputs": [],
   "source": [
    "import json\n",
    "\n",
    "@builder \n",
    "def political1():\n",
    "    df = pd.DataFrame(columns=['Tweet', 'Topic'],)\n",
    "    for figure in ('biden', 'harris', 'pence', 'trump'):\n",
    "        indata = pd.read_json(f'./raw_data/political/{figure}_timeline.json')\n",
    "        # df['Tweet'] = df['Tweet'] + indata['text']\n",
    "        df['Tweet'] = pd.concat([df['Tweet'],indata['text']],ignore_index=True)\n",
    "\n",
    "    df['Topic'] = ['political'] * len(df)\n",
    "\n",
    "    return df"
   ]
  },
  {
   "cell_type": "code",
   "execution_count": 6,
   "metadata": {},
   "outputs": [],
   "source": [
    "@builder\n",
    "def political2():\n",
    "    indata = pd.read_csv('./raw_data/political/kenya_political_tweets.csv')\n",
    "    ds = pd.DataFrame()\n",
    "    ds['Tweet'] = indata['text']\n",
    "    ds['Topic'] = ['political'] * len(ds)\n",
    "    return ds"
   ]
  },
  {
   "cell_type": "code",
   "execution_count": 7,
   "metadata": {},
   "outputs": [],
   "source": [
    "@builder\n",
    "def political3():\n",
    "    indata = pd.read_csv('./raw_data/political/Political_tweets.csv', low_memory=False)\n",
    "    ds = pd.DataFrame()\n",
    "    ds['Tweet'] = indata['text']\n",
    "    ds['Topic'] = ['political']*len(ds)\n",
    "    return ds"
   ]
  },
  {
   "cell_type": "code",
   "execution_count": 8,
   "metadata": {},
   "outputs": [],
   "source": [
    "@builder\n",
    "def political4():\n",
    "    indata = pd.read_csv('./raw_data/political/tweets.csv')\n",
    "    ds = pd.DataFrame()\n",
    "    ds['Tweet'] = indata['tweets']\n",
    "    ds['Topic'] = ['political']*len(ds)\n",
    "    ds['Tweet'].replace('ENGLISH TRANSLATION:', '', regex=True, inplace=True)\n",
    "    return ds"
   ]
  },
  {
   "cell_type": "code",
   "execution_count": 9,
   "metadata": {},
   "outputs": [],
   "source": [
    "@builder\n",
    "def hate1():\n",
    "    indata = pd.read_csv('./raw_data/hate/sexism_data.csv', low_memory=False)\n",
    "    ds = pd.DataFrame()\n",
    "    ds['Tweet'] = indata['text']\n",
    "    # ds['Topic'] = \n",
    "    ds['Topic'] = ['hate' if value else 'none' for value in indata['sexist']]\n",
    "    MENTION_REGEX = r'MENTION\\d*'\n",
    "    ds['Tweet'].replace(MENTION_REGEX, '', regex=True, inplace=True)\n",
    "    return ds"
   ]
  },
  {
   "cell_type": "code",
   "execution_count": 10,
   "metadata": {},
   "outputs": [],
   "source": [
    "@builder\n",
    "def hate2():\n",
    "    indata = pd.read_csv('./raw_data/hate/labeled_data.csv')\n",
    "    ds = pd.DataFrame()\n",
    "    ds['Tweet'] = indata['tweet']\n",
    "    ds['Topic'] = ['hate'] * len(ds)\n",
    "    return ds"
   ]
  },
  {
   "cell_type": "code",
   "execution_count": 11,
   "metadata": {},
   "outputs": [],
   "source": [
    "@builder\n",
    "def spam1():\n",
    "    indata = pd.read_csv('./raw_data/spam/train.csv')\n",
    "    ds = pd.DataFrame()\n",
    "    ds['Tweet'] = indata['Tweet']\n",
    "    ds['Topic'] = ['spam']*len(ds)\n",
    "    return ds"
   ]
  },
  {
   "cell_type": "code",
   "execution_count": 12,
   "metadata": {},
   "outputs": [],
   "source": [
    "@builder\n",
    "def finance1():\n",
    "    indata = pd.read_csv('./raw_data/finance/stockerbot-export.csv')\n",
    "    ds = pd.DataFrame()\n",
    "    ds['Tweet'] = indata['text']\n",
    "    ds['Topic'] = ['finance']*len(ds)\n",
    "    return ds"
   ]
  },
  {
   "cell_type": "code",
   "execution_count": 13,
   "metadata": {},
   "outputs": [],
   "source": [
    "@builder\n",
    "def finance2():\n",
    "    indata = pd.read_csv('./raw_data/finance/labelled.csv')\n",
    "    ds = pd.DataFrame()\n",
    "    ds['Tweet'] = indata['Column3']\n",
    "    ds['Topic'] = ['finance']*len(ds)\n",
    "    return ds"
   ]
  },
  {
   "cell_type": "code",
   "execution_count": 14,
   "metadata": {},
   "outputs": [],
   "source": [
    "@builder\n",
    "def none1():\n",
    "    indata = pd.read_csv('./raw_data/none/gender-classifier.csv')\n",
    "    ds = pd.DataFrame()\n",
    "    ds['Tweet'] = indata['text']\n",
    "    ds['Topic'] = ['none']*len(ds)\n",
    "    return ds"
   ]
  },
  {
   "cell_type": "code",
   "execution_count": 19,
   "metadata": {},
   "outputs": [
    {
     "data": {
      "text/plain": [
       "6015"
      ]
     },
     "execution_count": 19,
     "metadata": {},
     "output_type": "execute_result"
    }
   ],
   "source": [
    "# @builder\n",
    "def none2():\n",
    "    return pd.read_csv('./niki/random-tweets.csv')[['Tweet', 'Topic']]"
   ]
  },
  {
   "cell_type": "code",
   "execution_count": 16,
   "metadata": {},
   "outputs": [
    {
     "name": "stdout",
     "output_type": "stream",
     "text": [
      "Building 13/13\n",
      "Done building\n",
      "Removing links\n",
      "Removing hashtags\n",
      "Removing @s and RTs\n",
      "Removing extra whitespace\n",
      "Removing special characters\n",
      "Removing short tweets\n",
      "Making all lowercase\n",
      "Dataset info:\n",
      "covid        403997\n",
      "political    185553\n",
      "none          36717\n",
      "finance       32884\n",
      "hate          25627\n",
      "spam          11314\n",
      "Name: Topic, dtype: int64\n",
      "                                               Tweet  Topic\n",
      "1  advice talk to your neighbours family to excha...  covid\n",
      "2  coronavirus australia: woolworths to give elde...  covid\n",
      "3  my food stock is not the only one which is emp...  covid\n",
      "4  me, ready to go at supermarket during the  out...  covid\n",
      "5  as news of the regions first confirmed covid-1...  covid\n"
     ]
    }
   ],
   "source": [
    "df = pd.DataFrame(columns=['Tweet', 'Topic'])\n",
    "\n",
    "for i, builder in enumerate(builders):\n",
    "    print(f'\\rBuilding {i+1}/{len(builders)}', end=\"\")\n",
    "    df = pd.concat([df, builder()])\n",
    "\n",
    "print('\\nDone building')\n",
    "\n",
    "print('Removing links')\n",
    "LINK_REGEX = r'http(s)?:\\/\\/\\S*'\n",
    "df['Tweet'].replace(LINK_REGEX, '', regex=True, inplace=True)\n",
    "\n",
    "print('Removing hashtags')\n",
    "HASHTAG_REGEX = r'#\\S*'\n",
    "df['Tweet'].replace(HASHTAG_REGEX, '', regex=True, inplace=True)\n",
    "\n",
    "print('Removing @s and RTs')\n",
    "df['Tweet'].replace(r'@\\S+', '', regex=True, inplace=True)\n",
    "df['Tweet'].replace('RT', '', inplace=True)\n",
    "\n",
    "print('Removing extra whitespace')\n",
    "WHITESPACE_REGEX = r'[\\s\\n*]'\n",
    "df['Tweet'].replace(WHITESPACE_REGEX, ' ', regex=True, inplace=True)\n",
    "\n",
    "print('Removing special characters')\n",
    "df['Tweet'].replace(r'[^\\x00-\\x7F]*', '', regex=True, inplace=True)\n",
    "\n",
    "print('Removing short tweets')\n",
    "MIN_LENGTH = 16\n",
    "df = df[df['Tweet'].str.len() > MIN_LENGTH]\n",
    "\n",
    "print('Making all lowercase')\n",
    "df['Tweet'] = df['Tweet'].apply(lambda tweet: str(tweet).lower())\n",
    "\n",
    "print('Dataset info:')\n",
    "print(df['Topic'].value_counts())\n",
    "print(df.head())\n",
    "    "
   ]
  },
  {
   "cell_type": "code",
   "execution_count": 17,
   "metadata": {},
   "outputs": [
    {
     "name": "stdout",
     "output_type": "stream",
     "text": [
      "Saving to train-data.csv\n"
     ]
    }
   ],
   "source": [
    "save_path = 'train-data.csv'\n",
    "print(f'Saving to {save_path}')\n",
    "df.to_csv(save_path)"
   ]
  },
  {
   "cell_type": "code",
   "execution_count": 18,
   "metadata": {},
   "outputs": [
    {
     "data": {
      "text/plain": [
       "11314"
      ]
     },
     "execution_count": 18,
     "metadata": {},
     "output_type": "execute_result"
    }
   ],
   "source": [
    "df['Topic'].value_counts().min()"
   ]
  }
 ],
 "metadata": {
  "interpreter": {
   "hash": "3bb3707d5865f0e0e06961a47c3bdf40641e88cd22b80089f0bf187846d3112f"
  },
  "kernelspec": {
   "display_name": "Python 3.8.8 ('base')",
   "language": "python",
   "name": "python3"
  },
  "language_info": {
   "codemirror_mode": {
    "name": "ipython",
    "version": 3
   },
   "file_extension": ".py",
   "mimetype": "text/x-python",
   "name": "python",
   "nbconvert_exporter": "python",
   "pygments_lexer": "ipython3",
   "version": "3.10.0"
  },
  "orig_nbformat": 4
 },
 "nbformat": 4,
 "nbformat_minor": 2
}
