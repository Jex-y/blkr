{
 "cells": [
  {
   "cell_type": "code",
   "execution_count": 1,
   "metadata": {},
   "outputs": [],
   "source": [
    "import pandas as pd\n",
    "import numpy as np"
   ]
  },
  {
   "cell_type": "code",
   "execution_count": 2,
   "metadata": {},
   "outputs": [],
   "source": [
    "builders = []\n",
    "\n",
    "def builder(func):\n",
    "    builders.append(func)\n",
    "    return func"
   ]
  },
  {
   "cell_type": "code",
   "execution_count": 3,
   "metadata": {},
   "outputs": [],
   "source": [
    "@builder\n",
    "def covid1():\n",
    "    indata = pd.read_csv('./raw_data/covid/Corona_NPL_train.csv')\n",
    "    ds = pd.DataFrame()\n",
    "    ds['Tweet'] = indata['OriginalTweet']\n",
    "    ds['Topic'] = ['covid'] * len(ds)\n",
    "    return ds"
   ]
  },
  {
   "cell_type": "code",
   "execution_count": 4,
   "metadata": {},
   "outputs": [],
   "source": [
    "@builder\n",
    "def covid2():\n",
    "    indata = pd.read_csv('./raw_data/covid/covidvaccine.csv', low_memory=False)\n",
    "    ds = pd.DataFrame()\n",
    "    ds['Tweet'] = indata['text']\n",
    "    ds['Topic'] = ['covid'] * len(ds)\n",
    "    return ds"
   ]
  },
  {
   "cell_type": "code",
   "execution_count": 5,
   "metadata": {},
   "outputs": [],
   "source": [
    "import json\n",
    "\n",
    "@builder \n",
    "def political1():\n",
    "    df = pd.DataFrame(columns=['Tweet', 'Topic'],)\n",
    "    for figure in ('biden', 'harris', 'pence', 'trump'):\n",
    "        indata = pd.read_json(f'./raw_data/political/{figure}_timeline.json')\n",
    "        # df['Tweet'] = df['Tweet'] + indata['text']\n",
    "        df['Tweet'] = pd.concat([df['Tweet'],indata['text']],ignore_index=True)\n",
    "\n",
    "    df['Topic'] = ['political'] * len(df)\n",
    "\n",
    "    return df"
   ]
  },
  {
   "cell_type": "code",
   "execution_count": 6,
   "metadata": {},
   "outputs": [],
   "source": [
    "@builder\n",
    "def political2():\n",
    "    indata = pd.read_csv('./raw_data/political/kenya_political_tweets.csv')\n",
    "    ds = pd.DataFrame()\n",
    "    ds['Tweet'] = indata['text']\n",
    "    ds['Topic'] = ['political'] * len(ds)\n",
    "    return ds"
   ]
  },
  {
   "cell_type": "code",
   "execution_count": 7,
   "metadata": {},
   "outputs": [],
   "source": [
    "@builder\n",
    "def political3():\n",
    "    indata = pd.read_csv('./raw_data/political/Political_tweets.csv', low_memory=False)\n",
    "    ds = pd.DataFrame()\n",
    "    ds['Tweet'] = indata['text']\n",
    "    ds['Topic'] = ['political']*len(ds)\n",
    "    return ds"
   ]
  },
  {
   "cell_type": "code",
   "execution_count": 8,
   "metadata": {},
   "outputs": [],
   "source": [
    "@builder\n",
    "def political4():\n",
    "    indata = pd.read_csv('./raw_data/political/tweets.csv')\n",
    "    ds = pd.DataFrame()\n",
    "    ds['Tweet'] = indata['tweets']\n",
    "    ds['Topic'] = ['political']*len(ds)\n",
    "    ds['Tweet'].replace('ENGLISH TRANSLATION:', '', regex=True, inplace=True)\n",
    "    return ds"
   ]
  },
  {
   "cell_type": "code",
   "execution_count": 9,
   "metadata": {},
   "outputs": [],
   "source": [
    "@builder\n",
    "def hate1():\n",
    "    indata = pd.read_csv('./raw_data/hate/sexism_data.csv', low_memory=False)\n",
    "    ds = pd.DataFrame()\n",
    "    ds['Tweet'] = indata['text']\n",
    "    # ds['Topic'] = \n",
    "    ds['Topic'] = ['hate' if value else 'none' for value in indata['sexist']]\n",
    "    MENTION_REGEX = r'MENTION\\d*'\n",
    "    ds['Tweet'].replace(MENTION_REGEX, '', regex=True, inplace=True)\n",
    "    return ds"
   ]
  },
  {
   "cell_type": "code",
   "execution_count": 10,
   "metadata": {},
   "outputs": [],
   "source": [
    "@builder\n",
    "def hate2():\n",
    "    indata = pd.read_csv('./raw_data/hate/labeled_data.csv')\n",
    "    ds = pd.DataFrame()\n",
    "    ds['Tweet'] = indata['tweet']\n",
    "    ds['Topic'] = ['hate'] * len(ds)\n",
    "    return ds"
   ]
  },
  {
   "cell_type": "code",
   "execution_count": 11,
   "metadata": {},
   "outputs": [],
   "source": [
    "@builder\n",
    "def hate3():\n",
    "    indata = pd.read_csv('./raw_data/hate/TwitterHate.csv')\n",
    "    ds = pd.DataFrame()\n",
    "    ds['Tweet'] = indata['tweet']\n",
    "    ds['Topic'] = ['hate' if label==1 else 'none' for label in indata['label']]\n",
    "    return ds"
   ]
  },
  {
   "cell_type": "code",
   "execution_count": 12,
   "metadata": {},
   "outputs": [],
   "source": [
    "# @builder\n",
    "# def spam1():\n",
    "#     indata = pd.read_csv('./raw_data/spam/train.csv')\n",
    "#     ds = pd.DataFrame()\n",
    "#     ds['Tweet'] = indata['Tweet']\n",
    "#     ds['Topic'] = ['spam']*len(ds)\n",
    "#     return ds"
   ]
  },
  {
   "cell_type": "code",
   "execution_count": 13,
   "metadata": {},
   "outputs": [],
   "source": [
    "@builder\n",
    "def finance1():\n",
    "    indata = pd.read_csv('./raw_data/finance/stockerbot-export.csv')\n",
    "    ds = pd.DataFrame()\n",
    "    ds['Tweet'] = indata['text']\n",
    "    ds['Topic'] = ['finance']*len(ds)\n",
    "    return ds"
   ]
  },
  {
   "cell_type": "code",
   "execution_count": 14,
   "metadata": {},
   "outputs": [],
   "source": [
    "@builder\n",
    "def finance2():\n",
    "    indata = pd.read_csv('./raw_data/finance/labelled.csv')\n",
    "    ds = pd.DataFrame()\n",
    "    ds['Tweet'] = indata['Column3']\n",
    "    ds['Topic'] = ['finance']*len(ds)\n",
    "    return ds"
   ]
  },
  {
   "cell_type": "code",
   "execution_count": 15,
   "metadata": {},
   "outputs": [],
   "source": [
    "@builder\n",
    "def none1():\n",
    "    indata = pd.read_csv('./raw_data/none/gender-classifier.csv')\n",
    "    ds = pd.DataFrame()\n",
    "    ds['Tweet'] = indata['text']\n",
    "    ds['Topic'] = ['none']*len(ds)\n",
    "    return ds"
   ]
  },
  {
   "cell_type": "code",
   "execution_count": 16,
   "metadata": {},
   "outputs": [],
   "source": [
    "@builder\n",
    "def none2():\n",
    "    return pd.read_csv('./niki/random-tweets.csv')[['Tweet', 'Topic']]"
   ]
  },
  {
   "cell_type": "code",
   "execution_count": 22,
   "metadata": {},
   "outputs": [
    {
     "data": {
      "text/html": [
       "<div>\n",
       "<style scoped>\n",
       "    .dataframe tbody tr th:only-of-type {\n",
       "        vertical-align: middle;\n",
       "    }\n",
       "\n",
       "    .dataframe tbody tr th {\n",
       "        vertical-align: top;\n",
       "    }\n",
       "\n",
       "    .dataframe thead th {\n",
       "        text-align: right;\n",
       "    }\n",
       "</style>\n",
       "<table border=\"1\" class=\"dataframe\">\n",
       "  <thead>\n",
       "    <tr style=\"text-align: right;\">\n",
       "      <th></th>\n",
       "      <th>Tweet</th>\n",
       "      <th>Topic</th>\n",
       "    </tr>\n",
       "  </thead>\n",
       "  <tbody>\n",
       "    <tr>\n",
       "      <th>0</th>\n",
       "      <td>@user nice new signage. Are you not concerned ...</td>\n",
       "      <td>none</td>\n",
       "    </tr>\n",
       "    <tr>\n",
       "      <th>1</th>\n",
       "      <td>A woman who you fucked multiple times saying y...</td>\n",
       "      <td>hate</td>\n",
       "    </tr>\n",
       "    <tr>\n",
       "      <th>2</th>\n",
       "      <td>@user @user real talk do you have eyes or were...</td>\n",
       "      <td>hate</td>\n",
       "    </tr>\n",
       "    <tr>\n",
       "      <th>3</th>\n",
       "      <td>your girlfriend lookin at me like a groupie in...</td>\n",
       "      <td>hate</td>\n",
       "    </tr>\n",
       "    <tr>\n",
       "      <th>4</th>\n",
       "      <td>Hysterical woman like @user</td>\n",
       "      <td>none</td>\n",
       "    </tr>\n",
       "    <tr>\n",
       "      <th>...</th>\n",
       "      <td>...</td>\n",
       "      <td>...</td>\n",
       "    </tr>\n",
       "    <tr>\n",
       "      <th>100772</th>\n",
       "      <td>HillaryClinton Next up for legalization: Your ...</td>\n",
       "      <td>political</td>\n",
       "    </tr>\n",
       "    <tr>\n",
       "      <th>100773</th>\n",
       "      <td>You can't grow an economy from the bottom up. ...</td>\n",
       "      <td>political</td>\n",
       "    </tr>\n",
       "    <tr>\n",
       "      <th>100774</th>\n",
       "      <td>Too many women in too many countries speak the...</td>\n",
       "      <td>political</td>\n",
       "    </tr>\n",
       "    <tr>\n",
       "      <th>100775</th>\n",
       "      <td>In case of Emergency, Push THIS BUTTON to scru...</td>\n",
       "      <td>political</td>\n",
       "    </tr>\n",
       "    <tr>\n",
       "      <th>100776</th>\n",
       "      <td>@user There she is pant suite Hillary to hide ...</td>\n",
       "      <td>political</td>\n",
       "    </tr>\n",
       "  </tbody>\n",
       "</table>\n",
       "<p>100777 rows × 2 columns</p>\n",
       "</div>"
      ],
      "text/plain": [
       "                                                    Tweet      Topic\n",
       "0       @user nice new signage. Are you not concerned ...       none\n",
       "1       A woman who you fucked multiple times saying y...       hate\n",
       "2       @user @user real talk do you have eyes or were...       hate\n",
       "3       your girlfriend lookin at me like a groupie in...       hate\n",
       "4                            Hysterical woman like @user        none\n",
       "...                                                   ...        ...\n",
       "100772  HillaryClinton Next up for legalization: Your ...  political\n",
       "100773  You can't grow an economy from the bottom up. ...  political\n",
       "100774  Too many women in too many countries speak the...  political\n",
       "100775  In case of Emergency, Push THIS BUTTON to scru...  political\n",
       "100776  @user There she is pant suite Hillary to hide ...  political\n",
       "\n",
       "[100777 rows x 2 columns]"
      ]
     },
     "execution_count": 22,
     "metadata": {},
     "output_type": "execute_result"
    }
   ],
   "source": [
    "@builder\n",
    "def tweetval():\n",
    "    ds = pd.DataFrame()\n",
    "\n",
    "    dirs = ['hate', 'emotion', 'irony', 'offensive', 'sentiment', 'stance/abortion' , 'stance/atheism' , 'stance/climate', 'stance/feminist', 'stance/hillary']\n",
    "    mappings = [\n",
    "        ['none','hate'],\n",
    "        ['hate', 'none', 'none', 'none'],\n",
    "        ['none', 'none'],\n",
    "        ['none', 'hate'],\n",
    "        ['none', 'none', 'none'],\n",
    "        ['none', 'hate', 'none'],\n",
    "        ['none', 'none', 'none'],\n",
    "        ['none', 'political', 'none'],\n",
    "        ['none', 'hate', 'none'],\n",
    "        ['political', 'political', 'political'],\n",
    "        ]\n",
    "\n",
    "    tweet = []\n",
    "    topic = []\n",
    "    for i, path in enumerate(dirs):\n",
    "        labels = open(f'./raw_data/tweetval/{path}/train_labels.txt', encoding='utf-8').read().split('\\n');\n",
    "        text = open(f'./raw_data/tweetval/{path}/train_text.txt', encoding='utf-8').read().split('\\n');\n",
    "        labels += open(f'./raw_data/tweetval/{path}/test_labels.txt', encoding='utf-8').read().split('\\n');\n",
    "        text += open(f'./raw_data/tweetval/{path}/test_text.txt', encoding='utf-8').read().split('\\n');\n",
    "        labels += open(f'./raw_data/tweetval/{path}/val_labels.txt', encoding='utf-8').read().split('\\n');\n",
    "        text += open(f'./raw_data/tweetval/{path}/val_text.txt', encoding='utf-8').read().split('\\n');\n",
    "\n",
    "        fixed_text = []\n",
    "        fixed_labels = []\n",
    "        for j in range(len(labels)):\n",
    "            t = text[j]\n",
    "            l = labels[j]\n",
    "\n",
    "            if t and l:\n",
    "                fixed_text.append(t)\n",
    "                fixed_labels.append(mappings[i][int(l)])\n",
    "\n",
    "        tweet.extend(fixed_text)\n",
    "        topic.extend(fixed_labels)\n",
    "\n",
    "    ds['Tweet'] = tweet\n",
    "    ds['Topic'] = topic\n",
    "\n",
    "    return ds"
   ]
  },
  {
   "cell_type": "code",
   "execution_count": 18,
   "metadata": {},
   "outputs": [
    {
     "name": "stdout",
     "output_type": "stream",
     "text": [
      "Building 14/14\n",
      "Done building\n",
      "Removing links\n",
      "Removing hashtags\n",
      "Removing @s and RTs\n",
      "Removing extra whitespace\n",
      "Removing special characters\n",
      "Removing short tweets\n",
      "Making all lowercase\n",
      "Dataset info:\n",
      "covid        409030\n",
      "political    186534\n",
      "none          70094\n",
      "1             42815\n",
      "0             33343\n",
      "finance       32925\n",
      "hate          27993\n",
      "2             22518\n",
      "3              1291\n",
      "Name: Topic, dtype: int64\n",
      "                                               Tweet  Topic\n",
      "1  advice talk to your neighbours family to excha...  covid\n",
      "2  coronavirus australia: woolworths to give elde...  covid\n",
      "3  my food stock is not the only one which is emp...  covid\n",
      "4  me, ready to go at supermarket during the #cov...  covid\n",
      "5  as news of the regions first confirmed covid-1...  covid\n",
      "Target accuracy: 0.9151961845905173\n"
     ]
    }
   ],
   "source": [
    "df = pd.DataFrame(columns=['Tweet', 'Topic'])\n",
    "\n",
    "for i, builder in enumerate(builders):\n",
    "    print(f'\\rBuilding {i+1}/{len(builders)}', end=\"\")\n",
    "    df = pd.concat([df, builder()])\n",
    "\n",
    "print('\\nDone building')\n",
    "\n",
    "print('Removing links')\n",
    "LINK_REGEX = r'http(s)?:\\/\\/\\S*'\n",
    "df['Tweet'].replace(LINK_REGEX, '', regex=True, inplace=True)\n",
    "\n",
    "print('Removing hashtags')\n",
    "df['Tweet'].replace('#', '', inplace=True)\n",
    "\n",
    "print('Removing @s and RTs')\n",
    "df['Tweet'].replace(r'@\\S+', '', regex=True, inplace=True)\n",
    "df['Tweet'].replace('RT', '', inplace=True)\n",
    "\n",
    "print('Removing extra whitespace')\n",
    "WHITESPACE_REGEX = r'[\\s\\n*]'\n",
    "df['Tweet'].replace(WHITESPACE_REGEX, ' ', regex=True, inplace=True)\n",
    "\n",
    "print('Removing special characters')\n",
    "df['Tweet'].replace(r'[^\\x00-\\x7F]*', '', regex=True, inplace=True)\n",
    "\n",
    "print('Removing short tweets')\n",
    "MIN_LENGTH = 16\n",
    "df = df[df['Tweet'].str.len() > MIN_LENGTH]\n",
    "\n",
    "print('Making all lowercase')\n",
    "df['Tweet'] = df['Tweet'].apply(lambda tweet: str(tweet).lower())\n",
    "\n",
    "print('Dataset info:')\n",
    "print(df['Topic'].value_counts())\n",
    "print(df.head())\n",
    "\n",
    "null_counts = df['Topic'].value_counts()['none']\n",
    "print(f'Target accuracy: {1-(null_counts/len(df))}')\n",
    "    "
   ]
  },
  {
   "cell_type": "code",
   "execution_count": 19,
   "metadata": {},
   "outputs": [
    {
     "name": "stdout",
     "output_type": "stream",
     "text": [
      "Saving to train-data.csv\n"
     ]
    }
   ],
   "source": [
    "save_path = 'train-data.csv'\n",
    "print(f'Saving to {save_path}')\n",
    "df.to_csv(save_path)"
   ]
  },
  {
   "cell_type": "code",
   "execution_count": 20,
   "metadata": {},
   "outputs": [
    {
     "data": {
      "text/plain": [
       "1291"
      ]
     },
     "execution_count": 20,
     "metadata": {},
     "output_type": "execute_result"
    }
   ],
   "source": [
    "df['Topic'].value_counts().min()"
   ]
  }
 ],
 "metadata": {
  "interpreter": {
   "hash": "3bb3707d5865f0e0e06961a47c3bdf40641e88cd22b80089f0bf187846d3112f"
  },
  "kernelspec": {
   "display_name": "Python 3.8.8 ('base')",
   "language": "python",
   "name": "python3"
  },
  "language_info": {
   "codemirror_mode": {
    "name": "ipython",
    "version": 3
   },
   "file_extension": ".py",
   "mimetype": "text/x-python",
   "name": "python",
   "nbconvert_exporter": "python",
   "pygments_lexer": "ipython3",
   "version": "3.10.0"
  },
  "orig_nbformat": 4
 },
 "nbformat": 4,
 "nbformat_minor": 2
}
